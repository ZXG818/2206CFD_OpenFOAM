{
 "cells": [
  {
   "cell_type": "markdown",
   "id": "554562d9",
   "metadata": {},
   "source": [
    "# Lecture 01 Vectors and Matrices\n"
   ]
  },
  {
   "cell_type": "markdown",
   "id": "90e93f6d",
   "metadata": {},
   "source": [
    "## row vectors行向量\n",
    "\n",
    "$$\n",
    "b = \\begin{bmatrix}\n",
    "1, 2, 3\n",
    "\\end{bmatrix}\n",
    "$$"
   ]
  },
  {
   "cell_type": "code",
   "execution_count": null,
   "id": "c21f124e",
   "metadata": {},
   "outputs": [],
   "source": [
    "import numpy as np\n",
    "\n",
    "# ways to make a row vector\n",
    "x1 = [1, 3, 2] # list\n",
    "x2 = np.array([1, 3, 2])\n",
    "x3 = np.matrix([1,3, 2])\n",
    "\n",
    "display(x1)\n",
    "display(x2)\n",
    "display(x3)"
   ]
  },
  {
   "cell_type": "markdown",
   "id": "d680e94d",
   "metadata": {},
   "source": [
    "## column 列向量"
   ]
  },
  {
   "cell_type": "code",
   "execution_count": null,
   "id": "6f2feefe",
   "metadata": {},
   "outputs": [],
   "source": [
    "import numpy as np\n",
    "\n",
    "# ways to make a column vector\n",
    "x1 = np.matrix([[1], [3], [2]])\n",
    "x2 = np.array([[1],[3],[2]])\n",
    "display(x1)\n",
    "display(x2)"
   ]
  },
  {
   "cell_type": "markdown",
   "id": "dbb8a8a7",
   "metadata": {},
   "source": [
    "## 更多表示方式\n",
    "$$\n",
    "b = \\begin{bmatrix}\n",
    "1\\\\\n",
    "     2\\\\\n",
    "     3\n",
    "\\end{bmatrix}\n",
    "$$"
   ]
  },
  {
   "cell_type": "code",
   "execution_count": null,
   "id": "4dc4c647",
   "metadata": {},
   "outputs": [],
   "source": [
    "import numpy as np\n",
    "\n",
    "x1 = np.arange(0, 11, 1)\n",
    "x2 = np.arange(0, 11, 2)\n",
    "x3 = np.arange(0, 1.2, 0.2)\n",
    "x4 = np.arange(0, 9, 2)\n",
    "x5 = np.arange(0, 5)\n",
    "\n",
    "display(x1)\n",
    "display(x2)\n",
    "display(x3)\n",
    "display(x4)\n",
    "display(x5)"
   ]
  },
  {
   "cell_type": "markdown",
   "id": "5f092ddb",
   "metadata": {},
   "source": [
    "## Matrices矩阵表示\n",
    "$$\n",
    "A=\\begin{bmatrix}\n",
    "1 & 3 & 2\\\\\n",
    "5 & 6 & 7\\\\\n",
    "8 & 3 & 1\n",
    "\\end{bmatrix}\n",
    "$$"
   ]
  },
  {
   "cell_type": "code",
   "execution_count": null,
   "id": "8a3303b8",
   "metadata": {},
   "outputs": [],
   "source": [
    "import numpy as np\n",
    "\n",
    "A = np.array([[1, 3, 2], [5, 6, 7], [8, 3, 1]])\n",
    "display(A)"
   ]
  },
  {
   "cell_type": "markdown",
   "id": "db2329da",
   "metadata": {},
   "source": [
    "## 矩阵切片，提取\n",
    "$$\n",
    "A=\\begin{bmatrix}\n",
    "1 & 3 & 2\\\\\n",
    "5 & 6 & 7\\\\\n",
    "8 & 3 & 1\n",
    "\\end{bmatrix}\n",
    "$$"
   ]
  },
  {
   "cell_type": "code",
   "execution_count": null,
   "id": "03a854fa",
   "metadata": {},
   "outputs": [],
   "source": [
    "x1 = A[1, 2]\n",
    "x2 = A[1, :]\n",
    "x3 = A[:, 2]\n",
    "x4 = A[1:, 2]\n",
    "display(x1)\n",
    "display(x2)\n",
    "display(x3)\n",
    "display(x4)"
   ]
  },
  {
   "cell_type": "markdown",
   "id": "0c0b6eff",
   "metadata": {},
   "source": [
    "## 向量转置 \n",
    "\n",
    "$$\n",
    "x = \\begin{bmatrix}\n",
    "2 + 3i \\\\\n",
    "7\\\\\n",
    "1\n",
    "\\end{bmatrix}\n",
    "$$"
   ]
  },
  {
   "cell_type": "code",
   "execution_count": null,
   "id": "e3f6788f",
   "metadata": {},
   "outputs": [],
   "source": [
    "x = np.array([2+3j, 7, 1])\n",
    "x1 = x.T\n",
    "x2 = x.conjugate()\n",
    "x3 = x.conj()\n",
    "display(x)\n",
    "display(x1)\n",
    "display(x2)\n",
    "display(x3)"
   ]
  },
  {
   "cell_type": "markdown",
   "id": "9dc48cd2",
   "metadata": {},
   "source": [
    "# Lecture 02 Programming logic: IF and For，判断和循环语句"
   ]
  },
  {
   "cell_type": "markdown",
   "id": "3aa8d800",
   "metadata": {},
   "source": [
    "## The IF statement， if语句\n",
    "\n",
    "```python\n",
    "if (logical statement)\n",
    "    (expressions to execute)\n",
    "elif (logical statement)\n",
    "    (expressions to execute)\n",
    "elif (logical statement)\n",
    "    (expressions to execute)\n",
    "else\n",
    "    (expressions to execute)\n",
    "```\n",
    "\n",
    "## The FOR loop, for循环"
   ]
  },
  {
   "cell_type": "code",
   "execution_count": null,
   "id": "6a4f7169",
   "metadata": {},
   "outputs": [],
   "source": [
    "import numpy as np\n",
    "\n",
    "a = 0\n",
    "for j in np.arange(0, 5):\n",
    "    a = a + (j+1)\n",
    "    display(a)"
   ]
  },
  {
   "cell_type": "code",
   "execution_count": null,
   "id": "1c90fa60",
   "metadata": {},
   "outputs": [],
   "source": [
    "import numpy as np\n",
    "\n",
    "a = 0\n",
    "for j in np.arange(0, 5, 2):\n",
    "    a = a + (j+1)\n",
    "    display(a)"
   ]
  },
  {
   "cell_type": "code",
   "execution_count": null,
   "id": "3a1a3ec8",
   "metadata": {},
   "outputs": [],
   "source": [
    "import numpy as np\n",
    "\n",
    "a = 0\n",
    "loop = [1, 5, 4]\n",
    "for j in loop:\n",
    "    a = a + j\n",
    "    display(a)"
   ]
  },
  {
   "cell_type": "markdown",
   "id": "5fb803cf",
   "metadata": {},
   "source": [
    "## 算例，二分找根"
   ]
  },
  {
   "cell_type": "markdown",
   "id": "8cf04eeb",
   "metadata": {},
   "source": [
    "![image](bisection.png)"
   ]
  },
  {
   "cell_type": "markdown",
   "id": "f90d79d6",
   "metadata": {},
   "source": [
    "## 算例1\n",
    "$$\n",
    "f(x) = exp(x) - tan(x)\n",
    "$$"
   ]
  },
  {
   "cell_type": "code",
   "execution_count": null,
   "id": "5e778a58",
   "metadata": {},
   "outputs": [],
   "source": [
    "xr = -2.8; xl = -4\n",
    "\n",
    "for j in range(100):\n",
    "    xc = (xr + xl) / 2\n",
    "    fc = np.exp(xc) - np.tan(xc)\n",
    "    if ( fc > 0 ):\n",
    "        xl = xc\n",
    "    else:\n",
    "        xr = xc\n",
    "        \n",
    "    if ( abs(fc) < 1e-5 ):\n",
    "        display(xc)\n",
    "        display(j)\n",
    "        break\n"
   ]
  },
  {
   "cell_type": "code",
   "execution_count": null,
   "id": "1c87df14",
   "metadata": {},
   "outputs": [],
   "source": [
    "import numpy as np\n",
    "import matplotlib.pyplot as plt\n",
    "\n",
    "\n",
    "fig, ax = plt.subplots(figsize=(24, 12))\n",
    "x = np.linspace(-4.1, -2, 1000)\n",
    "y = 0*x\n",
    "\n",
    "plt.plot(x, np.exp(x)-np.tan(x), color='k')\n",
    "plt.plot(x, y, color='r')\n",
    "\n",
    "plt.plot(-4, np.exp(-4)-np.tan(-4), marker='o', color='g')\n",
    "plt.plot(-2.8, np.exp(-2.8)-np.tan(-2.8), marker='o', color='g')\n",
    "\n",
    "plt.grid()\n",
    "plt.ylim(-2, 2)\n",
    "\n",
    "\n",
    "xr = -2.8; xl = -4\n",
    "\n",
    "for j in range(100):\n",
    "    xc = (xr + xl) / 2\n",
    "    fc = np.exp(xc) - np.tan(xc)\n",
    "    if ( fc > 0 ):\n",
    "        xl = xc\n",
    "    else:\n",
    "        xr = xc\n",
    "        \n",
    "    if ( abs(fc) < 1e-5 ):\n",
    "        break\n",
    "    plt.plot(xc, fc, marker='o', color='k')\n",
    "    plt.annotate(j, [xc, fc], color='r',fontsize=20)\n",
    "\n"
   ]
  }
 ],
 "metadata": {
  "kernelspec": {
   "display_name": "Python 3 (ipykernel)",
   "language": "python",
   "name": "python3"
  },
  "language_info": {
   "codemirror_mode": {
    "name": "ipython",
    "version": 3
   },
   "file_extension": ".py",
   "mimetype": "text/x-python",
   "name": "python",
   "nbconvert_exporter": "python",
   "pygments_lexer": "ipython3",
   "version": "3.8.10"
  }
 },
 "nbformat": 4,
 "nbformat_minor": 5
}
