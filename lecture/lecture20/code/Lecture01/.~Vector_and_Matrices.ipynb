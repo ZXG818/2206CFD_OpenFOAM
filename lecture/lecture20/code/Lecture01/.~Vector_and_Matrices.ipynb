{
 "cells": [
  {
   "cell_type": "markdown",
   "id": "b60e91e9",
   "metadata": {},
   "source": [
    "# Lecture 02 Linear systems"
   ]
  },
  {
   "cell_type": "markdown",
   "id": "88d7e8f7",
   "metadata": {},
   "source": [
    "\n",
    "## Section 2.1 Matrix and Vector Properties\n",
    "\n",
    "$$\n",
    "A = \\begin{bmatrix}\n",
    "a_{11} & a_{12} &\\dots &a_{1n} \\\\\n",
    "a_{21} & a_{22} &\\dots &a_{1n} \\\\\n",
    "\\vdots \\\\\n",
    "a_{m1} & a_{m2} &\\dots &a_{mn} \n",
    "\\end{bmatrix} = (a_{ij})\n",
    "$$"
   ]
  },
  {
   "cell_type": "markdown",
   "id": "176f0ed9",
   "metadata": {},
   "source": [
    "## Concepts概念\n",
    "\n",
    "Transpose(转置):$\\mathbf{A}^T = (a_{ij})^T = (a_{ji})\\rightarrow \\ if \\ \\mathbf{A} = \\begin{bmatrix}1 &5\\\\ 2 &3\\end{bmatrix} then \\ A^T = \\begin{bmatrix}1 &5\\\\2 &3\\\\\\end{bmatrix}$\n",
    "\n",
    "\n",
    "\n",
    "Complex Conjugate(复转置): $\\overline{A} = \\overline{a_{ij}} \\rightarrow if \\ A = \\begin{bmatrix} i &5\\\\ 3+i &6\\end{bmatrix} then \\ \\overline{A} = \\begin{bmatrix}-i & 5\\\\ 3-i &6\\end{bmatrix}$\n",
    "\n",
    "\n",
    "Adjoint: $\\overline{A}^T = A^* \\rightarrow if \\ \\mathbf{A}= \\begin{bmatrix} i &5\\\\ 3+i &6\\end{bmatrix} then \\ \\overline{A} = \\begin{bmatrix}-i & 3-i\\\\ 5 &6\\end{bmatrix}$\n",
    "\n",
    "\n",
    "伴随变换更合适$A^H$，共轭转置矩阵"
   ]
  },
  {
   "cell_type": "code",
   "execution_count": null,
   "id": "30c73870",
   "metadata": {},
   "outputs": [],
   "source": [
    "import numpy as np\n",
    "\n",
    "A = np.matrix([[1, 5], [2, 3]])\n",
    "A.T\n",
    "print(A)\n",
    "print(\"........................\")\n",
    "\n",
    "B = np.matrix([[1j, 5], [3+1j, 6]])\n",
    "print(B.conjugate())\n",
    "print(\"........................\")\n",
    "\n",
    "C = np.matrix([[1j, 5], [3+1j, 6]])\n",
    "print(C.getH()) #  Hermitian transpose"
   ]
  },
  {
   "cell_type": "markdown",
   "id": "cbc096dc",
   "metadata": {},
   "source": [
    "## Matrix equalities and addition\n",
    "\n",
    "$\\mathbf{A} = \\mathbf{B}$，如果$a_{ij} = b_{ij}$\n",
    "\n",
    "$\\mathbf{A} = 0$，表示$a_{ij} = 0$\n",
    "\n",
    "$\\mathbf{A}\\pm\\mathbf{B} = (a_{ij})\\pm b_{ij}) = (a_{ij}\\pm b_{ij})$\n",
    "\n",
    "$\\textbf{commutative}: \\mathbf{A} + \\mathbf{B} = \\mathbf{B} + \\mathbf{A}$\n",
    "\n",
    "$\\textbf{Associative}: \\mathbf{A} + (\\mathbf{B} + \\mathbf{C})= (\\mathbf{A} + \\mathbf{B}) + \\mathbf{C}$"
   ]
  },
  {
   "cell_type": "markdown",
   "id": "45725a33",
   "metadata": {},
   "source": [
    "## Matrix multiplication\n",
    "\n",
    "Multiply by a number: $\\alpha\\mathbf{A} = \\alpha(a_{ij})=(\\alpha a_{ij})$\n",
    "\n",
    "Matrix multiply:$\\mathbf{AB} = C, 其中:\\ c_{ij}=\\sum_{k=1}^na_{ik}b_{kj}$\n",
    "\n",
    "$$\n",
    "\\begin{pmatrix}\n",
    "3 &2 &1 \\\\\n",
    "6 &5 &0 \\\\\n",
    "1 &8 &3\n",
    "\\end{pmatrix}\n",
    "\\begin{pmatrix}\n",
    "1\\\\\n",
    "0\\\\\n",
    "2\n",
    "\\end{pmatrix}\n",
    "= \\begin{pmatrix}\n",
    "3\\cdot1 + 2\\cdot0 + 1\\cdot2 \\\\\n",
    "6\\cdot1 + 5\\cdot0 + 0\\cdot2 \\\\\n",
    "1\\cdot1 + 8\\cdot0 + 3\\cdot2\n",
    "\\end{pmatrix}\n",
    "=\n",
    "\\begin{pmatrix}\n",
    "5\\\\\n",
    "6\\\\\n",
    "7\n",
    "\\end{pmatrix}\n",
    "$$\n",
    "\n",
    "$\\textbf{distributive}: \\mathbf{A}(\\mathbf{B}+\\mathbf{C})= \\mathbf{A}\\mathbf{B}+\\mathbf{A}\\mathbf{C})$\n",
    "\n",
    "$\\textbf{Associative}: \\mathbf{A}(\\mathbf{B}\\mathbf{C})= (\\mathbf{A}\\mathbf{B})\\mathbf{C}$\n",
    "\n",
    "$\\textbf{not commutative}: \\mathbf{A}\\mathbf{B} \\neq \\mathbf{B}\\mathbf{A}$"
   ]
  },
  {
   "cell_type": "code",
   "execution_count": 49,
   "id": "bd3ff409",
   "metadata": {},
   "outputs": [
    {
     "name": "stdout",
     "output_type": "stream",
     "text": [
      "[[ 3  2  1]\n",
      " [ 0  0  0]\n",
      " [ 2 16  6]]\n",
      "[[5]\n",
      " [6]\n",
      " [7]]\n"
     ]
    }
   ],
   "source": [
    "import numpy as np\n",
    "A = np.array([[3, 2, 1],\n",
    "               [6, 5, 0],\n",
    "               [1, 8, 3]])\n",
    "B = np.array([[1],\n",
    "               [0],\n",
    "               [2]])\n",
    "\n",
    "C = A*B # element-wise\n",
    "print(C)\n",
    "\n",
    "D = A@B\n",
    "print(D)"
   ]
  },
  {
   "cell_type": "markdown",
   "id": "2d36e831",
   "metadata": {},
   "source": [
    "## Vector multiplication\n",
    "\n",
    "Vectors: \n",
    "\n",
    "$\\mathbf{u}^T\\mathbf{v} = \\sum_{i=1}^n u_iv_i$\n",
    "\n",
    "$$\n",
    "\\large{\n",
    "\\mathbf{u}^T\\mathbf{v}=(u_1, u_2, \\cdots, u_n)\n",
    "\\begin{pmatrix}\n",
    "v_1\\\\\n",
    "v_2\\\\\n",
    "\\vdots\\\\\n",
    "v_n\n",
    "\\end{pmatrix}\n",
    "= (u_1v_1 + u_2v_2 + \\cdots + u_nv_n)}\n",
    "$$\n",
    "\n",
    "## inner product 内积\n",
    "\n",
    "Inner product:\n",
    "\n",
    "$\\mathbf{(u, v)} = \\sum_{i=1}^{n}=u_i\\overline{v_i}=\\mathbf{u}^T\\overline{v}$\n",
    "\n",
    "* $\\mathbf{(u,v)}=\\overline{(v, u)}$\n",
    "\n",
    "\n",
    "* $(\\alpha \\mathbf{u}, \\mathbf{v}) = \\alpha(\\mathbf{u},\\mathbf{v})$\n",
    "\n",
    "\n",
    "* $(\\mathbf{u}, \\alpha\\mathbf{v})=\\overline{\\alpha}(\\mathbf{u},\\mathbf{v})$\n",
    "\n",
    "\n",
    "* $\\mathbf{u}, \\mathbf{v+w} = (\\mathbf{u},\\mathbf{v}) + (\\mathbf{u, w})$\n",
    "\n",
    "Vector Magnitudes:\n",
    "\n",
    "$\\mathbf{(u, u)}^{1/2} = \\sum_{i=1}^{n}u_i\\overline{u_i}=\\sum_{i=1}^{n}|u_i|$\n",
    "\n",
    "Orthogonality:\n",
    "\n",
    "$(\\mathbf{u,v})=0$"
   ]
  },
  {
   "cell_type": "markdown",
   "id": "fb5de3bc",
   "metadata": {},
   "source": [
    "## Linear dependence 线性相关无关\n",
    "\n",
    "$$c_1\\mathbf{X_1} + c_2\\mathbf{X_2} + \\cdots + c_n\\mathbf{X_n}= 0$$\n",
    "\n",
    "如果$c_i$不全为0是线性相关，否则线性无关\n",
    "\n",
    "\n",
    "## Inverse 逆矩阵\n",
    "\n",
    "Identity Matrix: $\\mathbf{I} = \\delta_{ij}，对于i=j，\\delta_{ij} = 1，否则，\\delta_{ij}=0$\n",
    "\n",
    "Inverse Matrix: $\\mathbf{AB = I}，如果det(A)\\neq=0，则\\mathbf{B=A^{-1}}$\n",
    "\n",
    "## Solving $\\mathbf{A}x=b$\n",
    "\n",
    "$$\n",
    "if \\ det(A)\\neq 0 \\ x = \\mathbf{A}^{-1}b\n",
    "$$"
   ]
  },
  {
   "cell_type": "code",
   "execution_count": null,
   "id": "639bbc46",
   "metadata": {},
   "outputs": [],
   "source": []
  }
 ],
 "metadata": {
  "kernelspec": {
   "display_name": "Python 3 (ipykernel)",
   "language": "python",
   "name": "python3"
  },
  "language_info": {
   "codemirror_mode": {
    "name": "ipython",
    "version": 3
   },
   "file_extension": ".py",
   "mimetype": "text/x-python",
   "name": "python",
   "nbconvert_exporter": "python",
   "pygments_lexer": "ipython3",
   "version": "3.8.10"
  }
 },
 "nbformat": 4,
 "nbformat_minor": 5
}
