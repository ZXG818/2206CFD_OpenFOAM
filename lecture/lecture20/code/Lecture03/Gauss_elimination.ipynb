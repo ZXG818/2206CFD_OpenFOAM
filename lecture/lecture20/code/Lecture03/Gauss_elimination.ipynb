{
 "cells": [
  {
   "cell_type": "markdown",
   "id": "61981b1a",
   "metadata": {},
   "source": [
    "# Gauss Elimination 高斯消元\n",
    "\n",
    "## 直接解法 $\\mathbf{Ax = b}$"
   ]
  },
  {
   "cell_type": "markdown",
   "id": "e63cf42f",
   "metadata": {},
   "source": [
    "$$\n",
    "x_1 + x_2 + x_3 = 1 \\\\\n",
    "x_1 + 2x_2 + 4x_3 = -1 \\\\\n",
    "x_1 + 3x_2 + 9x_3 = 1\n",
    "$$\n"
   ]
  },
  {
   "cell_type": "markdown",
   "id": "bd0de494",
   "metadata": {},
   "source": [
    "$$\n",
    "\\mathbf{A} = \\begin{bmatrix}\n",
    "1 &1 &1\\\\\n",
    "1 &2 &4\\\\\n",
    "1 &3 &9\\\\\n",
    "\\end{bmatrix} \\quad\n",
    "\\mathbf{x} = \\begin{bmatrix}\n",
    "x_1 \\\\\n",
    "x_2 \\\\\n",
    "x_3 \\\\\n",
    "\\end{bmatrix} \\quad\n",
    "\\mathbf{b} = \\begin{bmatrix}\n",
    "1 \\\\\n",
    "-1 \\\\\n",
    "1 \\\\\n",
    "\\end{bmatrix}\n",
    "$$"
   ]
  },
  {
   "cell_type": "markdown",
   "id": "96b3873f",
   "metadata": {},
   "source": [
    "## 前向消元"
   ]
  },
  {
   "cell_type": "markdown",
   "id": "15db4c15",
   "metadata": {},
   "source": [
    "$$\\left[\\mathbf{A\\bigm|b}\\right]=\n",
    "\\left[\\begin{array}{@{}ccc|c@{}}\n",
    "\\fbox{1} & 1 & 1 & 1 \\\\\n",
    "1 & 2 & 4 & -1 \\\\\n",
    "1 & 3 & 9 & 1 \\\\\n",
    "\\end{array}\\right] \\\\\n",
    "=\\left[\\begin{array}{@{}ccc|c@{}}\n",
    "\\fbox{1} & 1 & 1 & 1 \\\\\n",
    "0 & 1 & 3 & -2 \\\\\n",
    "0 & 2 & 8 & 0 \\\\\n",
    "\\end{array}\\right] \\\\\n",
    "=\\left[\\begin{array}{@{}ccc|c@{}}\n",
    "1 & 1 & 1 & 1 \\\\\n",
    "0 & \\fbox{1} & 3& -2 \\\\\n",
    "0 & 1 & 4 & 0 \\\\\n",
    "\\end{array}\\right] \\\\\n",
    "=\\left[\\begin{array}{@{}ccc|c@{}}\n",
    "1 & 1 & 1 & 1 \\\\\n",
    "0 & 1 & 3 & -2 \\\\\n",
    "0 & 0 & 1 & 2 \\\\\n",
    "\\end{array}\\right] \n",
    "$$"
   ]
  },
  {
   "cell_type": "markdown",
   "id": "b5c299c7",
   "metadata": {},
   "source": [
    "## 后向回代\n",
    "\n",
    "$$\n",
    "x_3 = 2 \\rightarrow x_3 = 2 \\\\\n",
    "x_2 + 3x_3 = -2 \\rightarrow x_2 = -8 \\\\\n",
    "x_1 + x_2 + x_3 = 1 \\rightarrow x_1 = 7\n",
    "$$"
   ]
  },
  {
   "cell_type": "markdown",
   "id": "6313789c",
   "metadata": {},
   "source": [
    "## 计算开销"
   ]
  },
  {
   "cell_type": "markdown",
   "id": "3de85034",
   "metadata": {},
   "source": [
    "前向操作：\n",
    "1. 移动N个pivots，主元\n",
    "2. 每个主元，对于该行对应的所有列进行加减操作\n",
    "3. 每个主元，要对下面N行进行加减操作\n",
    "\n",
    "$$\n",
    "\\mathcal{O}(N^3)\n",
    "$$\n",
    "回代操作:\n",
    "$$\n",
    "\\mathcal{O}(N^2)\n",
    "$$\n",
    "\n",
    "这个开销较大"
   ]
  },
  {
   "cell_type": "markdown",
   "id": "56700aa8",
   "metadata": {},
   "source": [
    "## LU decomposition，LU分解\n",
    "\n",
    "$$\n",
    "\\mathbf{A=LU} \\rightarrow \\begin{bmatrix}\n",
    "a_{11} &a_{12} &a_{13}\\\\\n",
    "a_{21} &a_{22} &a_{23}\\\\\n",
    "a_{31} &a_{32} &a_{33}\\\\\n",
    "\\end{bmatrix}\n",
    "= \\underbrace{\\begin{bmatrix}\n",
    "1 &0 &0\\\\\n",
    "m_{21} &1 &0\\\\\n",
    "m_{31} &m_{32} &1\\\\\n",
    "\\end{bmatrix}}_\\mathbf{L}\n",
    "\\overbrace{\\begin{bmatrix}\n",
    "u_{11} &u_{12} &u_{13}\\\\\n",
    "0 &u_{22} &u_{23}\\\\\n",
    "0 &0 &u_{33}\\\\\n",
    "\\end{bmatrix}}^\\mathbf{U}\n",
    "$$"
   ]
  },
  {
   "cell_type": "markdown",
   "id": "44afa2e5",
   "metadata": {},
   "source": [
    "## 计算思路\n",
    "$$\n",
    "\\mathbf{Ax = b}\\\\\n",
    "\\mathbf{LUx = b}\\\\\n",
    "\\mathbf{Ly = b}\\\\\n",
    "\\mathbf{Ux = y}\n",
    "$$"
   ]
  },
  {
   "cell_type": "markdown",
   "id": "b9f1c475",
   "metadata": {},
   "source": [
    "## LU分解方法\n",
    "\n",
    "$$\n",
    "\\mathbf{A = IA}=\n",
    "\\begin{bmatrix}\n",
    "1 &0 &0 \\\\\n",
    "0 &1 &0 \\\\\n",
    "0 &0 &1\n",
    "\\end{bmatrix}\n",
    "\\begin{bmatrix}\n",
    "\\fbox{4} &3 &-1 \\\\\n",
    "-2 &-4 &5 \\\\\n",
    "1 &2 &6\n",
    "\\end{bmatrix}\n",
    "$$\n",
    "\n",
    "$$\n",
    "\\mathbf{A}=\n",
    "\\begin{bmatrix}\n",
    "1 &0 &0 \\\\\n",
    "-1/2 &1 &0 \\\\\n",
    "1/4 &0 &1\n",
    "\\end{bmatrix}\n",
    "\\begin{bmatrix}\n",
    "4 &3 &-1 \\\\\n",
    "0 &\\fbox{-2.5} &4.5 \\\\\n",
    "0 &1.25 &6.25\n",
    "\\end{bmatrix}\n",
    "$$\n",
    "\n",
    "$$\n",
    "\\mathbf{A}=\n",
    "\\begin{bmatrix}\n",
    "1 &0 &0 \\\\\n",
    "-1/2 &1 &0 \\\\\n",
    "1/4 &-1/2 &1\n",
    "\\end{bmatrix}\n",
    "\\begin{bmatrix}\n",
    "4 &3 &-1 \\\\\n",
    "0 &-2.5 &4.5 \\\\\n",
    "0 &0 &8.5\n",
    "\\end{bmatrix}\n",
    "$$\n",
    "\n",
    "$$\n",
    "\\mathbf{L}=\n",
    "\\begin{bmatrix}\n",
    "1 &0 &0 \\\\\n",
    "-1/2 &1 &0 \\\\\n",
    "1/4 &-1/2 &1\n",
    "\\end{bmatrix} \\quad and \\quad\n",
    "\\mathbf{U}=\n",
    "\\begin{bmatrix}\n",
    "4 &3 &-1 \\\\\n",
    "0 &-2.5 &4.5 \\\\\n",
    "0 &0 &8.5\n",
    "\\end{bmatrix}\n",
    "$$"
   ]
  },
  {
   "cell_type": "markdown",
   "id": "5af64815",
   "metadata": {},
   "source": [
    "## 注意0主元\n",
    "\n",
    "### 置换矩阵，permutation matrix\n",
    "\n",
    "$$\n",
    "PAx = Pb\n",
    "$$\n",
    "\n",
    "$$\n",
    "LUx = Pb\n",
    "$$\n",
    "\n",
    "$$\n",
    "Ly = b' \n",
    "$$\n",
    "\n",
    "$$\n",
    "Ux = y\n",
    "$$"
   ]
  },
  {
   "cell_type": "code",
   "execution_count": null,
   "id": "02e04c93",
   "metadata": {},
   "outputs": [],
   "source": [
    "import numpy as np\n",
    "\n",
    "A = np.array([[1, 1, 1], [1, 2, 4], [1, 3, 9]])\n",
    "b = np.array([[1], [-1], [1]])\n",
    "\n",
    "x = np.linalg.solve(A,b) # linear algebra matlab A \\ b;\n",
    "print(x)"
   ]
  },
  {
   "cell_type": "code",
   "execution_count": null,
   "id": "ab9e3d7d",
   "metadata": {},
   "outputs": [],
   "source": [
    "import scipy\n",
    "import scipy.linalg\n",
    "\n",
    "P, L, U = scipy.linalg.lu(A)\n",
    "b2 = np.matmul(P, b) # p@b P*b\n",
    "\n",
    "y = np.linalg.solve(L, b2)\n",
    "x = np.linalg.solve(U, y)\n",
    "\n",
    "print(y)\n",
    "print(x)\n"
   ]
  },
  {
   "cell_type": "code",
   "execution_count": null,
   "id": "4c7b6b8f",
   "metadata": {},
   "outputs": [],
   "source": []
  },
  {
   "cell_type": "markdown",
   "id": "2133a93a",
   "metadata": {},
   "source": [
    "## Iteative method"
   ]
  },
  {
   "cell_type": "markdown",
   "id": "122305f2",
   "metadata": {},
   "source": [
    "## solving $\\mathbf{Ax=b}$\n",
    "\n",
    "$$\n",
    "\\begin{array}{ccc}\n",
    "4x - y + z = 7\\\\\n",
    "4x -8y + z = -21\\\\\n",
    "-2x + y + 5z = 15\n",
    "\\end{array}\n",
    "$$\n",
    "\n",
    "$$\n",
    "\\begin{bmatrix}\n",
    "4 &-1 &1\\\\\n",
    "4 &-8 &1\\\\\n",
    "-2 &1 &5\n",
    "\\end{bmatrix}\n",
    "\\begin{bmatrix}\n",
    "x\\\\\n",
    "y\\\\\n",
    "z\n",
    "\\end{bmatrix}=\n",
    "\\begin{bmatrix}\n",
    "7\\\\\n",
    "-21\\\\\n",
    "15\n",
    "\\end{bmatrix}\n",
    "$$"
   ]
  },
  {
   "cell_type": "code",
   "execution_count": 55,
   "id": "37d63ed0",
   "metadata": {},
   "outputs": [
    {
     "name": "stdout",
     "output_type": "stream",
     "text": [
      "[[2.]\n",
      " [4.]\n",
      " [3.]]\n"
     ]
    }
   ],
   "source": [
    "import numpy as np\n",
    "\n",
    "A = np.array([[4, -1, 1],\n",
    "              [4, -8, 1],\n",
    "              [-2, 1, 5]])\n",
    "\n",
    "b = np.array([[7],\n",
    "              [-21],\n",
    "              [15]])\n",
    "\n",
    "x = np.linalg.solve(A, b)\n",
    "print(x)"
   ]
  },
  {
   "cell_type": "markdown",
   "id": "ac63b78f",
   "metadata": {},
   "source": [
    "## iterative process\n",
    "\n",
    "$$\n",
    "    \\begin{array}{}\n",
    "x &= \\dfrac{7 + y - z}{4} \\\\\n",
    "y &= \\dfrac{21+4x+z}{8} \\\\\n",
    "z &= \\dfrac{15+2x-y}{5}\n",
    "\\end{array} \\Rightarrow\n",
    "    \\begin{array}{}\n",
    "x_{k+1} &= \\dfrac{7 + y_{k} - z_{k}}{4} \\\\\n",
    "y_{k+1} &= \\dfrac{21+4x_{k}+z_{k}}{8} \\\\\n",
    "z_{k+1} &= \\dfrac{15+2x_{k}-y_{k}}{5}\n",
    "\\end{array} \n",
    "$$\n",
    "\n",
    "$$\n",
    "    \\begin{array}{}\n",
    "x &= \\dfrac{7 + y - z}{4} \\\\\n",
    "y &= \\dfrac{21+4x+z}{8} \\\\\n",
    "z &= \\dfrac{15+2x-y}{5}\n",
    "\\end{array} \\Rightarrow\n",
    "    \\begin{array}{}\n",
    "x_{k+1} &= \\dfrac{7 + y_{k} - z_{k}}{4} \\\\\n",
    "y_{k+1} &= \\dfrac{21+4x_{k+1}+z_{k}}{8} \\\\\n",
    "z_{k+1} &= \\dfrac{15+2x_{k+1}-y_{k+1}}{5}\n",
    "\\end{array} \n",
    "$$"
   ]
  },
  {
   "cell_type": "markdown",
   "id": "4c6e9da9",
   "metadata": {},
   "source": [
    "## 算法，algorithm\n",
    "\n",
    "### 1. Guess initial values: $(x_0, y_0, z_0)^T$\n",
    "### 2. Iterate the Jacobi scheme: $\\mathbf{x_{k+1} = Ax_k}$\n",
    "### 3. Check for convergence: $\\Vert\\mathbf{x_{k+1}-x_{k}}\\Vert< tolerance$"
   ]
  },
  {
   "cell_type": "code",
   "execution_count": 59,
   "id": "8d4ede75",
   "metadata": {},
   "outputs": [
    {
     "name": "stdout",
     "output_type": "stream",
     "text": [
      "correct, k is 23\n",
      "[[2.]\n",
      " [4.]\n",
      " [3.]]\n"
     ]
    }
   ],
   "source": [
    "# jacobian\n",
    "import numpy as np\n",
    "\n",
    "X_initial = np.zeros((3, 1))\n",
    "#X_initial = np.array([[1], [1], [1]])\n",
    "X_next = np.zeros((3, 1))\n",
    "\n",
    "for k in range(100):\n",
    "    X_next[0] = (7 + X_initial[1] - X_initial[2]) / 4\n",
    "    X_next[1] = (21 + 4*X_initial[0] + X_initial[2]) / 8\n",
    "    X_next[2] = (15 + 2*X_initial[0] - X_initial[1]) / 5\n",
    "\n",
    "    if (np.linalg.norm(X_next - X_initial) < 1e-10):\n",
    "        print(\"correct, k is\", k)\n",
    "        print(X_next)\n",
    "        break\n",
    "    X_initial = np.copy(X_next)\n",
    "        "
   ]
  },
  {
   "cell_type": "code",
   "execution_count": 57,
   "id": "9cf02f6a",
   "metadata": {
    "scrolled": false
   },
   "outputs": [
    {
     "name": "stdout",
     "output_type": "stream",
     "text": [
      "correct, k is 12\n",
      "[[2.]\n",
      " [4.]\n",
      " [3.]]\n"
     ]
    }
   ],
   "source": [
    "# gauss-seidel\n",
    "import numpy as np\n",
    "\n",
    "X_initial = np.zeros((3, 1))\n",
    "#X_initial = np.array([[1], [2], [2]])\n",
    "X_next = np.zeros((3, 1))\n",
    "\n",
    "for k in range(100):\n",
    "    X_next[0] = (7 + X_initial[1] - X_initial[2]) / 4\n",
    "    X_next[1] = (21 + 4*X_next[0] + X_initial[2]) / 8\n",
    "    X_next[2] = (15 + 2*X_next[0] - X_next[1]) / 5\n",
    "\n",
    "    if (np.linalg.norm(X_next - X_initial) < 1e-10):\n",
    "        print(\"correct, k is\", k)\n",
    "        print(X_next)\n",
    "        break\n",
    "    X_initial = np.copy(X_next)"
   ]
  },
  {
   "cell_type": "markdown",
   "id": "74945e48",
   "metadata": {},
   "source": [
    "## Strict diagonal dominance\n",
    "\n",
    "$$\n",
    "|a_{ii}| > \\sum_{j=1, j\\neq i}^{N}|a_{ij}|\n",
    "$$"
   ]
  },
  {
   "cell_type": "markdown",
   "id": "0ab8d0f7",
   "metadata": {},
   "source": [
    "$$\n",
    "\\mathbf{A} = \\begin{bmatrix}\n",
    "4 &-1 &1\\\\\n",
    "4 &-8 &1\\\\\n",
    "-2 &1 &5\n",
    "\\end{bmatrix}\n",
    "$$\n",
    "\n",
    "$$\n",
    "\\mathbf{A} = \\begin{bmatrix}\n",
    "-2 &1 &5\\\\\n",
    "4 &-8 &1\\\\\n",
    "4 &-1 &1\n",
    "\\end{bmatrix}\n",
    "$$"
   ]
  }
 ],
 "metadata": {
  "kernelspec": {
   "display_name": "Python 3 (ipykernel)",
   "language": "python",
   "name": "python3"
  },
  "language_info": {
   "codemirror_mode": {
    "name": "ipython",
    "version": 3
   },
   "file_extension": ".py",
   "mimetype": "text/x-python",
   "name": "python",
   "nbconvert_exporter": "python",
   "pygments_lexer": "ipython3",
   "version": "3.8.10"
  }
 },
 "nbformat": 4,
 "nbformat_minor": 5
}
